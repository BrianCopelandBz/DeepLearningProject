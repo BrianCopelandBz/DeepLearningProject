{
 "cells": [
  {
   "cell_type": "markdown",
   "metadata": {},
   "source": [
    "\n",
    "# InstaCart Data\n",
    "The InstaCart Data (https://www.kaggle.com/c/instacart-market-basket-analysis/data) is slightly too large for in-memory merging, so let's use a sqlite3 database to store and do large transformations. \n",
    "\n",
    "Load each of the tables into the database"
   ]
  },
  {
   "cell_type": "code",
   "execution_count": null,
   "metadata": {
    "collapsed": true
   },
   "outputs": [],
   "source": [
    "# Create database to hold data\n",
    "import csv, sqlite3"
   ]
  },
  {
   "cell_type": "markdown",
   "metadata": {},
   "source": [
    "## orders.csv\n"
   ]
  },
  {
   "cell_type": "code",
   "execution_count": 48,
   "metadata": {},
   "outputs": [],
   "source": [
    "# Connect to database\n",
    "con = sqlite3.connect(\"instacart.db\")\n",
    "cur = con.cursor()\n",
    "\n",
    "# Create orders table in sqlite3\n",
    "cur.execute(\"DROP TABLE IF EXISTS orders;\")\n",
    "cur.execute(\"CREATE TABLE orders (order_id integer, user_id integer, eval_set string, order_number integer, order_dow integer,order_hour_of_day integer,days_since_prior_order integer);\")\n",
    "\n",
    "with open('data/orders.csv') as csvfile: \n",
    "    reader = csv.DictReader(csvfile)\n",
    "    for row in reader:\n",
    "        cur.execute(\"INSERT INTO orders (order_id,user_id,eval_set,order_number,order_dow,order_hour_of_day,days_since_prior_order ) VALUES (?, ?, ?, ?, ?, ?, ?);\", list(row.values()))\n",
    "\n",
    "con.commit()\n",
    "con.close()"
   ]
  },
  {
   "cell_type": "markdown",
   "metadata": {},
   "source": [
    "## order_products__prior.csv"
   ]
  },
  {
   "cell_type": "code",
   "execution_count": 68,
   "metadata": {},
   "outputs": [],
   "source": [
    "con = sqlite3.connect(\"instacart.db\")\n",
    "cur = con.cursor()\n",
    "\n",
    "# Create prior order producs table in sqlite3\n",
    "cur.execute(\"DROP TABLE IF EXISTS products_prior;\")\n",
    "cur.execute(\"CREATE TABLE products_prior (order_id integer, product_id integer, add_to_cart_order integer, reordered integer);\")\n",
    "\n",
    "with open('data/order_products__prior.csv', encoding='utf-8', errors='ignore') as csvfile: \n",
    "    reader = csv.DictReader(csvfile)\n",
    "    for row in reader:\n",
    "        cur.execute(\"INSERT INTO products_prior (order_id,product_id,add_to_cart_order,reordered) VALUES (?, ?, ?, ?);\", list(row.values()))\n",
    "\n",
    "con.commit()\n",
    "con.close()"
   ]
  },
  {
   "cell_type": "markdown",
   "metadata": {},
   "source": [
    "## products.csv"
   ]
  },
  {
   "cell_type": "code",
   "execution_count": 61,
   "metadata": {},
   "outputs": [],
   "source": [
    "con = sqlite3.connect(\"instacart.db\")\n",
    "cur = con.cursor()\n",
    "\n",
    "# Create prior order producs table in sqlite3\n",
    "cur.execute(\"DROP TABLE IF EXISTS products;\")\n",
    "cur.execute(\"CREATE TABLE products (product_id integer, product_name string, aisle_id integer, department_id integer);\")\n",
    "\n",
    "with open('data/products.csv', encoding='utf-8', errors='ignore') as csvfile: \n",
    "    reader = csv.DictReader(csvfile)\n",
    "    for row in reader:\n",
    "        cur.execute(\"INSERT INTO products (product_id,product_name,aisle_id,department_id) VALUES (?, ?, ?, ?);\", list(row.values()))\n",
    "\n",
    "con.commit()\n",
    "con.close()"
   ]
  },
  {
   "cell_type": "markdown",
   "metadata": {},
   "source": [
    "## aisles.csv"
   ]
  },
  {
   "cell_type": "code",
   "execution_count": 64,
   "metadata": {},
   "outputs": [],
   "source": [
    "con = sqlite3.connect(\"instacart.db\")\n",
    "cur = con.cursor()\n",
    "\n",
    "# Create prior order producs table in sqlite3\n",
    "cur.execute(\"DROP TABLE IF EXISTS aisles;\")\n",
    "cur.execute(\"CREATE TABLE aisles (aisle_id integer, aisle string);\")\n",
    "\n",
    "with open('data/aisles.csv', encoding='utf-8', errors='ignore') as csvfile: \n",
    "    reader = csv.DictReader(csvfile)\n",
    "    for row in reader:\n",
    "        cur.execute(\"INSERT INTO aisles (aisle_id,aisle) VALUES (?, ?);\", list(row.values()))\n",
    "\n",
    "con.commit()\n",
    "con.close()"
   ]
  },
  {
   "cell_type": "markdown",
   "metadata": {},
   "source": [
    "## departments.csv"
   ]
  },
  {
   "cell_type": "code",
   "execution_count": 65,
   "metadata": {
    "collapsed": true
   },
   "outputs": [],
   "source": [
    "con = sqlite3.connect(\"instacart.db\")\n",
    "cur = con.cursor()\n",
    "\n",
    "# Create prior order producs table in sqlite3\n",
    "cur.execute(\"DROP TABLE IF EXISTS departments;\")\n",
    "cur.execute(\"CREATE TABLE departments (department_id integer, department string);\")\n",
    "\n",
    "with open('data/departments.csv', encoding='utf-8', errors='ignore') as csvfile: \n",
    "    reader = csv.DictReader(csvfile)\n",
    "    for row in reader:\n",
    "        cur.execute(\"INSERT INTO departments (department_id,department) VALUES (?, ?);\", list(row.values()))\n",
    "\n",
    "con.commit()\n",
    "con.close()"
   ]
  },
  {
   "cell_type": "markdown",
   "metadata": {},
   "source": [
    "## order_products__train.csv"
   ]
  },
  {
   "cell_type": "code",
   "execution_count": 67,
   "metadata": {},
   "outputs": [],
   "source": [
    "con = sqlite3.connect(\"instacart.db\")\n",
    "cur = con.cursor()\n",
    "\n",
    "# Create prior order producs table in sqlite3\n",
    "cur.execute(\"DROP TABLE IF EXISTS products_train;\")\n",
    "cur.execute(\"CREATE TABLE products_train (order_id integer, product_id integer, add_to_cart_order integer, reordered integer);\")\n",
    "\n",
    "with open('data/order_products__train.csv', encoding='utf-8', errors='ignore') as csvfile: \n",
    "    reader = csv.DictReader(csvfile)\n",
    "    for row in reader:\n",
    "        cur.execute(\"INSERT INTO products_train (order_id,product_id,add_to_cart_order,reordered) VALUES (?, ?, ?, ?);\", list(row.values()))\n",
    "\n",
    "con.commit()\n",
    "con.close()"
   ]
  },
  {
   "cell_type": "markdown",
   "metadata": {},
   "source": [
    "# Other Prep"
   ]
  },
  {
   "cell_type": "code",
   "execution_count": 192,
   "metadata": {
    "collapsed": true
   },
   "outputs": [],
   "source": [
    "# Import stuff\n",
    "import numpy as np\n",
    "import pandas as pd\n",
    "import time\n",
    "\n",
    "from sklearn.linear_model import LogisticRegression, LinearRegression\n",
    "from sklearn.datasets import load_boston\n",
    "from sklearn.model_selection import train_test_split\n",
    "from sklearn.preprocessing import MinMaxScaler\n",
    "from sklearn.metrics import accuracy_score, mean_absolute_error, mean_squared_error\n",
    "\n",
    "import matplotlib\n",
    "import matplotlib.pyplot as plt\n",
    "import seaborn as sns\n",
    "\n",
    "import zipfile\n",
    "import csv\n",
    "import glob\n",
    "import os\n",
    "import io\n",
    "\n",
    "import unittest\n",
    "\n",
    "\n",
    "%matplotlib inline"
   ]
  },
  {
   "cell_type": "markdown",
   "metadata": {},
   "source": [
    "Set style"
   ]
  },
  {
   "cell_type": "code",
   "execution_count": 69,
   "metadata": {
    "collapsed": true
   },
   "outputs": [],
   "source": [
    "sns.set(style=\"whitegrid\", font_scale=1.3)\n",
    "matplotlib.rcParams[\"legend.framealpha\"] = 1\n",
    "matplotlib.rcParams[\"legend.frameon\"] = True"
   ]
  },
  {
   "cell_type": "markdown",
   "metadata": {},
   "source": [
    "Just for the sake of reproducibility"
   ]
  },
  {
   "cell_type": "code",
   "execution_count": 71,
   "metadata": {
    "collapsed": true
   },
   "outputs": [],
   "source": [
    "np.random.seed(21)"
   ]
  },
  {
   "cell_type": "markdown",
   "metadata": {},
   "source": [
    "## Split testset into train and validation\n",
    "\n",
    "The orders table consists of three types of orders: \n",
    "\n",
    "| eval_set  | Records | Purpose |\n",
    "|:----------|:-----------|:-----|\n",
    "|prior |3,214,874 |Prior orders that provide history for other two sets  |\n",
    "|train |131,209 |The last order for training on\n",
    "|test | 75,000 |Orders for which to predict the future orders then submit on Kaggle.com\n",
    "\n",
    "Thus, test is off limits and not really touched. But from train, I can make a validation set by splitting it up. Let's do it with the last digit of order_id. \n",
    "\n",
    "**If order_id % 10 >= 7 and eval_set = 'train', then 'validation'**"
   ]
  },
  {
   "cell_type": "markdown",
   "metadata": {},
   "source": [
    "## Create dataframe with actual results\n",
    "\n",
    "Go to the answers and make a dataframe that matches the sample submission. From the Kaggle evaluation page: \n",
    "\n",
    "> For each order_id in the test set, you should predict a space-delimited list of product_ids for that order. If you wish to predict an empty order, you should submit an explicit 'None' value. You may combine 'None' with product_ids. The spelling of 'None' is case sensitive in the scoring metric. The file should have a header and look like the following:\n",
    "\n",
    ">```\n",
    "order_id,products  \n",
    "17,1 2  \n",
    "34,None  \n",
    "137,1 2 3  \n",
    "etc.\n",
    "```\n",
    "\n",
    "It is easier to compare if testing is a dict object, keys being the order id, value being the set of products"
   ]
  },
  {
   "cell_type": "code",
   "execution_count": 178,
   "metadata": {},
   "outputs": [],
   "source": [
    "conn = sqlite3.connect(\"instacart.db\")\n",
    "cur = conn.cursor()\n",
    "\n",
    "# Query sqlite3 for the validation orders and their products\n",
    "actual_results_raw = pd.read_sql_query(\"SELECT A.order_id as order_id, \"\n",
    "                                   \"  COALESCE(CAST(B.product_id as text), 'None') as product_id \"\n",
    "                                   \"FROM orders A LEFT JOIN ( \"\n",
    "                                   \"  SELECT order_id, product_id \"\n",
    "                                   \"  FROM products_train \"\n",
    "                                   \"  WHERE order_id % 10 >= 7 \"\n",
    "                                   \"    AND reordered = 1 ) B \"\n",
    "                                   \"  ON A.order_id = B.order_id \"\n",
    "                                   \"WHERE A.eval_set = 'train' \"\n",
    "                                   \"  AND A.order_id % 10 >= 7;\" , conn)\n",
    "\n",
    "con.close()"
   ]
  },
  {
   "cell_type": "code",
   "execution_count": 184,
   "metadata": {},
   "outputs": [],
   "source": [
    "actual_results = {}\n",
    "\n",
    "# Convert evaluation framework: results[order_id] = set([product1, product2, ...])\n",
    "for row in actual_results_raw.itertuples():\n",
    "    if row.order_id not in actual_results:\n",
    "        actual_results[row.order_id] = set()\n",
    "    actual_results[row.order_id].add(row.product_id)\n"
   ]
  },
  {
   "cell_type": "code",
   "execution_count": 190,
   "metadata": {},
   "outputs": [
    {
     "name": "stdout",
     "output_type": "stream",
     "text": [
      "421779: {'48745', '24957', '45007', '48094', '8146', '17920', '43789', '32710', '2979', '23236', '7503'}\n",
      "1159799: {'16262', '5692', '19057', '20693', '27845', '27864', '44292', '13541', '47630', '26317', '30169', '14947', '33787', '3957', '13176', '11925', '27966', '8021'}\n",
      "1000247: {'3381', '6825', '20930', '13328', '39982'}\n",
      "848619: {'31371', '29871', '27548', '38689', '6631', '46107', '35221', '44560', '46584', '11440', '4367', '30720'}\n",
      "254328: {'3706', '4724', '16797', '8571', '8803', '12341'}\n"
     ]
    }
   ],
   "source": [
    "# Look at a few actual results:\n",
    "for i in range(5):\n",
    "    rando = np.random.randint(0,actual_results_raw.shape[0])\n",
    "    print(str(actual_results_raw.iloc[rando].order_id) + \": \" \n",
    "          + str(actual_results[actual_results_raw.iloc[rando].order_id]) )"
   ]
  },
  {
   "cell_type": "code",
   "execution_count": 186,
   "metadata": {},
   "outputs": [
    {
     "data": {
      "text/html": [
       "<div>\n",
       "<table border=\"1\" class=\"dataframe\">\n",
       "  <thead>\n",
       "    <tr style=\"text-align: right;\">\n",
       "      <th></th>\n",
       "      <th>order_id</th>\n",
       "      <th>product_id</th>\n",
       "    </tr>\n",
       "  </thead>\n",
       "  <tbody>\n",
       "    <tr>\n",
       "      <th>64</th>\n",
       "      <td>2436259</td>\n",
       "      <td>None</td>\n",
       "    </tr>\n",
       "    <tr>\n",
       "      <th>275</th>\n",
       "      <td>2887658</td>\n",
       "      <td>None</td>\n",
       "    </tr>\n",
       "    <tr>\n",
       "      <th>353</th>\n",
       "      <td>1976038</td>\n",
       "      <td>None</td>\n",
       "    </tr>\n",
       "    <tr>\n",
       "      <th>412</th>\n",
       "      <td>394279</td>\n",
       "      <td>None</td>\n",
       "    </tr>\n",
       "    <tr>\n",
       "      <th>604</th>\n",
       "      <td>2724968</td>\n",
       "      <td>None</td>\n",
       "    </tr>\n",
       "  </tbody>\n",
       "</table>\n",
       "</div>"
      ],
      "text/plain": [
       "     order_id product_id\n",
       "64    2436259       None\n",
       "275   2887658       None\n",
       "353   1976038       None\n",
       "412    394279       None\n",
       "604   2724968       None"
      ]
     },
     "execution_count": 186,
     "metadata": {},
     "output_type": "execute_result"
    }
   ],
   "source": [
    "# Look for null: \n",
    "actual_results_none = actual_results_raw[actual_results_raw.product_id == \"None\"]\n",
    "actual_results_none.head()"
   ]
  },
  {
   "cell_type": "markdown",
   "metadata": {},
   "source": [
    "## Create dummy comparison set\n",
    "\n",
    "Let's predict 'None' for every single order, just to practice calculating F1"
   ]
  },
  {
   "cell_type": "code",
   "execution_count": 293,
   "metadata": {},
   "outputs": [
    {
     "name": "stdout",
     "output_type": "stream",
     "text": [
      "3187808: {'None'}\n",
      "1436219: {'None'}\n",
      "1208039: {'None'}\n",
      "152837: {'None'}\n",
      "1780247: {'None'}\n"
     ]
    }
   ],
   "source": [
    "# dictionary of orders where the products predicted will all be none\n",
    "dummy_results = {}\n",
    "\n",
    "# Convert evaluation framework: results[order_id] = set([product1, product2, ...])\n",
    "for row in actual_results_raw.itertuples():\n",
    "    if row.order_id not in dummy_results:\n",
    "        dummy_results[row.order_id] = set()\n",
    "    dummy_results[row.order_id].add('None')\n",
    "    \n",
    "# Look at a few actual results:\n",
    "for i in range(5):\n",
    "    rando = np.random.randint(0,actual_results_raw.shape[0])\n",
    "    print(str(actual_results_raw.iloc[rando].order_id) + \": \" \n",
    "          + str(dummy_results[actual_results_raw.iloc[rando].order_id]) )\n"
   ]
  },
  {
   "cell_type": "markdown",
   "metadata": {},
   "source": [
    "## Create F1 score calculator"
   ]
  },
  {
   "cell_type": "markdown",
   "metadata": {},
   "source": [
    "The F1 mean score is used in this competition. \n",
    "\n",
    "```\n",
    "F1 = 2 * (Precision * Recall) / (Precision + Recall)\n",
    "```\n",
    "\n",
    "...where...\n",
    "\n",
    "```\n",
    "Precision = True Positives / (True Positives + False Positives)\n",
    "Recall = True Positives / (True Positives + False Negatives)\n",
    "```"
   ]
  },
  {
   "cell_type": "code",
   "execution_count": 294,
   "metadata": {},
   "outputs": [],
   "source": [
    "# F1 takes two dictionaries, predicted and actual, and compares the two, returning the F1 score, \n",
    "# ...or raising an error\n",
    "def f1(pred,actual):\n",
    "    # Error Checking input:\n",
    "    # Are they the same size?\n",
    "    if len(pred.keys()) != len(actual.keys()):\n",
    "        raise AssertionError('Prediction set is not the same size as actual set')\n",
    "    \n",
    "    # Create aggregate scores:\n",
    "    true_positives, false_positives, false_negatives = 0, 0, 0\n",
    "    \n",
    "    # For each order\n",
    "    for order in actual.keys():\n",
    "        if order not in pred:\n",
    "            raise KeyError('order in actual not in prediction')\n",
    "        else:\n",
    "            # True positives is the size of the intersection\n",
    "            true_positives += len(actual[order].intersection(pred[order]))\n",
    "            # False positives are products in the prediction not in actual\n",
    "            false_positives += len(pred[order] - actual[order])\n",
    "            # False negatives are products in actual not in prediction\n",
    "            false_negatives += len(actual[order] - pred[order])\n",
    "    \n",
    "    # Calculate F1\n",
    "    precision = true_positives / (true_positives + false_positives)\n",
    "    recall = true_positives / (true_positives + false_negatives)\n",
    "    F1 = 2 * ( (precision * recall) / (precision + recall) )\n",
    "    \n",
    "    print(\"True Positives:  \" + str(true_positives))\n",
    "    print(\"False Positives: \" + str(false_positives))\n",
    "    print(\"False Negatives: \" + str(false_negatives))\n",
    "    print(\"Precision:       \" + str(precision))\n",
    "    print(\"Recall:          \" + str(recall))\n",
    "    print(\"----------------------------\")\n",
    "    print(\"F1: \" + str(F1))\n",
    "          \n",
    "    return F1, true_positives, false_positives, false_negatives\n",
    "    "
   ]
  },
  {
   "cell_type": "code",
   "execution_count": 295,
   "metadata": {},
   "outputs": [
    {
     "name": "stdout",
     "output_type": "stream",
     "text": [
      "True Positives:  2586\n",
      "False Positives: 37002\n",
      "False Negatives: 251536\n",
      "Precision:       0.0653228250985147\n",
      "Recall:          0.010176214574102203\n",
      "----------------------------\n",
      "F1: 0.017609206360014982\n"
     ]
    }
   ],
   "source": [
    "dummy_f1, dummy_true, dummy_falsep, dummy_falsen = f1(dummy_results, actual_results)"
   ]
  },
  {
   "cell_type": "markdown",
   "metadata": {},
   "source": [
    "## Track Results\n",
    "\n",
    "Per Jimmy, \n",
    "\n",
    "> Also one should always track the results of the experiments to be able to compare different approaches. Let's create pandas DataFrame for this purpose. \n",
    "\n",
    "I couldn't say it better. "
   ]
  },
  {
   "cell_type": "code",
   "execution_count": 304,
   "metadata": {},
   "outputs": [
    {
     "data": {
      "text/html": [
       "<div>\n",
       "<table border=\"1\" class=\"dataframe\">\n",
       "  <thead>\n",
       "    <tr style=\"text-align: right;\">\n",
       "      <th></th>\n",
       "      <th>Model</th>\n",
       "      <th>F1</th>\n",
       "      <th>True Positives</th>\n",
       "      <th>False Positive</th>\n",
       "      <th>False Negatives</th>\n",
       "    </tr>\n",
       "  </thead>\n",
       "  <tbody>\n",
       "  </tbody>\n",
       "</table>\n",
       "</div>"
      ],
      "text/plain": [
       "Empty DataFrame\n",
       "Columns: [Model, F1, True Positives, False Positive, False Negatives]\n",
       "Index: []"
      ]
     },
     "execution_count": 304,
     "metadata": {},
     "output_type": "execute_result"
    }
   ],
   "source": [
    "results = pd.DataFrame(columns=[\"Model\", \"F1\",\"True Positives\", \"False Positive\", \"False Negatives\"])\n",
    "results"
   ]
  },
  {
   "cell_type": "code",
   "execution_count": 307,
   "metadata": {},
   "outputs": [
    {
     "data": {
      "text/html": [
       "<div>\n",
       "<table border=\"1\" class=\"dataframe\">\n",
       "  <thead>\n",
       "    <tr style=\"text-align: right;\">\n",
       "      <th></th>\n",
       "      <th>Model</th>\n",
       "      <th>F1</th>\n",
       "      <th>True Positives</th>\n",
       "      <th>False Positive</th>\n",
       "      <th>False Negatives</th>\n",
       "    </tr>\n",
       "  </thead>\n",
       "  <tbody>\n",
       "    <tr>\n",
       "      <th>0</th>\n",
       "      <td>Dummy - None</td>\n",
       "      <td>0.017609</td>\n",
       "      <td>2586.0</td>\n",
       "      <td>37002.0</td>\n",
       "      <td>251536.0</td>\n",
       "    </tr>\n",
       "  </tbody>\n",
       "</table>\n",
       "</div>"
      ],
      "text/plain": [
       "          Model        F1  True Positives  False Positive  False Negatives\n",
       "0  Dummy - None  0.017609          2586.0         37002.0         251536.0"
      ]
     },
     "execution_count": 307,
     "metadata": {},
     "output_type": "execute_result"
    }
   ],
   "source": [
    "# Append the dummy results:\n",
    "dummy_results = pd.DataFrame([['Dummy - None', dummy_f1, dummy_true, dummy_falsep, dummy_falsen]]\n",
    "                             , columns=[\"Model\", \"F1\",\"True Positives\", \"False Positive\", \"False Negatives\"])\n",
    "results = results.append(dummy_results)\n",
    "results"
   ]
  },
  {
   "cell_type": "markdown",
   "metadata": {},
   "source": [
    "# Query and Review Data\n",
    "\n",
    "Let's look at the data and do some quick assertions."
   ]
  },
  {
   "cell_type": "code",
   "execution_count": 50,
   "metadata": {},
   "outputs": [
    {
     "name": "stdout",
     "output_type": "stream",
     "text": [
      "[(2, 33120, 1, 1), (2, 28985, 2, 1), (2, 9327, 3, 0), (2, 45918, 4, 1), (2, 30035, 5, 0)]\n"
     ]
    }
   ],
   "source": [
    "# Check data\n",
    "con = sqlite3.connect(\"instacart.db\")\n",
    "cur = con.cursor()\n",
    "\n",
    "cur.execute('SELECT * FROM products_prior LIMIT 5;')\n",
    "all_rows = cur.fetchall()\n",
    "print(all_rows)\n",
    "\n",
    "con.commit()\n",
    "con.close()"
   ]
  },
  {
   "cell_type": "code",
   "execution_count": 54,
   "metadata": {},
   "outputs": [
    {
     "name": "stdout",
     "output_type": "stream",
     "text": [
      "[(17997, 4210, 99), (41356, 6583, 99), (41356, 14366, 99), (41356, 38652, 99), (141736, 25133, 99)]\n"
     ]
    }
   ],
   "source": [
    "# Check that there are 5 products purchased 99 times\n",
    "con = sqlite3.connect(\"instacart.db\")\n",
    "cur = con.cursor()\n",
    "\n",
    "cur.execute('SELECT * FROM user_prod_freq where purch_freq = 99;')\n",
    "all_rows = cur.fetchall()\n",
    "print(all_rows)\n",
    "\n",
    "con.commit()\n",
    "con.close()"
   ]
  },
  {
   "cell_type": "markdown",
   "metadata": {},
   "source": [
    "# Naive Reorder Logic\n",
    "\n",
    "Let us set a really simple baseline - for each user, find the number of reordered items in a basket, call it n, then take their n most frequently ordered items. \n",
    "\n",
    "Take the prior, then predict on validation and calculate accuracy"
   ]
  },
  {
   "cell_type": "markdown",
   "metadata": {},
   "source": [
    "## Average Reorder Per User"
   ]
  },
  {
   "cell_type": "code",
   "execution_count": 77,
   "metadata": {},
   "outputs": [],
   "source": [
    "# For each user, calculate average number of reordered items in a basket\n",
    "conn = sqlite3.connect(\"instacart.db\")\n",
    "cur = conn.cursor()\n",
    "\n",
    "# Number of reorders per order\n",
    "cur.execute(\"CREATE TABLE reorder_per_order AS \"\n",
    "            \"SELECT order_id, SUM(reordered) as reordered \"\n",
    "            \"FROM products_prior \"\n",
    "            \"GROUP BY order_id;\")\n",
    "\n",
    "conn.commit()\n",
    "conn.close()"
   ]
  },
  {
   "cell_type": "code",
   "execution_count": 86,
   "metadata": {},
   "outputs": [],
   "source": [
    "# Join to orders to calculate average per user\n",
    "conn = sqlite3.connect(\"instacart.db\")\n",
    "cur = conn.cursor()\n",
    "\n",
    "# Drop prior table if exists\n",
    "cur.execute(\"DROP TABLE IF EXISTS reorder_per_user_prior;\")\n",
    "\n",
    "# Average reorders per user_id\n",
    "cur.execute(\"CREATE TABLE reorder_per_user_prior AS \"\n",
    "            \"SELECT A.user_id as user_id, AVG(B.reordered) as reorder_avg \"\n",
    "            \"FROM orders A INNER JOIN reorder_per_order B \"\n",
    "            \"ON A.order_id = B.order_id \"\n",
    "            \"WHERE A.order_number > 1 \" # Reorders arent possible on first order\n",
    "            \"GROUP BY A.user_id;\")\n",
    "\n",
    "conn.commit()\n",
    "conn.close()"
   ]
  },
  {
   "cell_type": "code",
   "execution_count": 87,
   "metadata": {},
   "outputs": [
    {
     "name": "stdout",
     "output_type": "stream",
     "text": [
      "   user_id  reorder_avg\n",
      "0        1     4.555556\n",
      "1        2     7.153846\n",
      "2        3     5.000000\n",
      "3        4     0.250000\n",
      "4        5     4.666667\n"
     ]
    }
   ],
   "source": [
    "# Spit out table into a dataframe\n",
    "conn = sqlite3.connect(\"instacart.db\")\n",
    "cur = conn.cursor()\n",
    "\n",
    "reorder_per_user_prior = pd.read_sql_query(\"SELECT * FROM reorder_per_user_prior;\", conn)\n",
    "\n",
    "# verify that result of SQL query is stored in the dataframe\n",
    "print(reorder_per_user_prior.head())\n",
    "\n",
    "conn.close()\n"
   ]
  },
  {
   "cell_type": "markdown",
   "metadata": {
    "collapsed": true
   },
   "source": [
    "## Most Reordered Products Per User"
   ]
  },
  {
   "cell_type": "code",
   "execution_count": 225,
   "metadata": {},
   "outputs": [],
   "source": [
    "# Join products to orders, count reorders\n",
    "conn = sqlite3.connect(\"instacart.db\")\n",
    "cur = conn.cursor()\n",
    "\n",
    "cur.execute(\"DROP TABLE IF EXISTS reorder_by_user_product;\")\n",
    "\n",
    "# Calculate reorder_count per user per product\n",
    "cur.execute(\"CREATE TABLE reorder_by_user_product AS \"\n",
    "            \"SELECT A.user_id as user_id, \"\n",
    "            \"  B.product_id as product_id, \"\n",
    "            \"  count(*) as reorder_count \"\n",
    "            \"FROM orders A INNER JOIN products_prior B \"\n",
    "            \"  ON A.order_id = B.order_id \"\n",
    "            \"WHERE B.reordered = 1 \"\n",
    "            \"GROUP BY A.user_id, B.product_id;\")\n",
    "\n",
    "# Dump to python\n",
    "reordered_products_per_user = pd.read_sql_query(\"SELECT * FROM reorder_by_user_product;\", conn)\n",
    "\n",
    "conn.commit()\n",
    "conn.close()"
   ]
  },
  {
   "cell_type": "code",
   "execution_count": 92,
   "metadata": {},
   "outputs": [
    {
     "data": {
      "text/html": [
       "<div>\n",
       "<table border=\"1\" class=\"dataframe\">\n",
       "  <thead>\n",
       "    <tr style=\"text-align: right;\">\n",
       "      <th></th>\n",
       "      <th>user_id</th>\n",
       "      <th>product_id</th>\n",
       "      <th>reorder_count</th>\n",
       "    </tr>\n",
       "  </thead>\n",
       "  <tbody>\n",
       "    <tr>\n",
       "      <th>0</th>\n",
       "      <td>1</td>\n",
       "      <td>196</td>\n",
       "      <td>9</td>\n",
       "    </tr>\n",
       "    <tr>\n",
       "      <th>1</th>\n",
       "      <td>1</td>\n",
       "      <td>10258</td>\n",
       "      <td>8</td>\n",
       "    </tr>\n",
       "    <tr>\n",
       "      <th>2</th>\n",
       "      <td>1</td>\n",
       "      <td>12427</td>\n",
       "      <td>9</td>\n",
       "    </tr>\n",
       "    <tr>\n",
       "      <th>3</th>\n",
       "      <td>1</td>\n",
       "      <td>13032</td>\n",
       "      <td>2</td>\n",
       "    </tr>\n",
       "    <tr>\n",
       "      <th>4</th>\n",
       "      <td>1</td>\n",
       "      <td>13176</td>\n",
       "      <td>1</td>\n",
       "    </tr>\n",
       "  </tbody>\n",
       "</table>\n",
       "</div>"
      ],
      "text/plain": [
       "   user_id  product_id  reorder_count\n",
       "0        1         196              9\n",
       "1        1       10258              8\n",
       "2        1       12427              9\n",
       "3        1       13032              2\n",
       "4        1       13176              1"
      ]
     },
     "execution_count": 92,
     "metadata": {},
     "output_type": "execute_result"
    }
   ],
   "source": [
    "# Let's look at it\n",
    "reordered_products_per_user.head()"
   ]
  },
  {
   "cell_type": "code",
   "execution_count": 226,
   "metadata": {},
   "outputs": [],
   "source": [
    "# Rank products by user\n",
    "reordered_products_per_user[\"reorder_rank\"] = reordered_products_per_user.groupby('user_id')['reorder_count'].rank(method=\"first\", ascending=False)"
   ]
  },
  {
   "cell_type": "code",
   "execution_count": 227,
   "metadata": {},
   "outputs": [
    {
     "data": {
      "text/html": [
       "<div>\n",
       "<table border=\"1\" class=\"dataframe\">\n",
       "  <thead>\n",
       "    <tr style=\"text-align: right;\">\n",
       "      <th></th>\n",
       "      <th>user_id</th>\n",
       "      <th>product_id</th>\n",
       "      <th>reorder_count</th>\n",
       "      <th>reorder_rank</th>\n",
       "    </tr>\n",
       "  </thead>\n",
       "  <tbody>\n",
       "    <tr>\n",
       "      <th>0</th>\n",
       "      <td>1</td>\n",
       "      <td>196</td>\n",
       "      <td>9</td>\n",
       "      <td>1.0</td>\n",
       "    </tr>\n",
       "    <tr>\n",
       "      <th>1</th>\n",
       "      <td>1</td>\n",
       "      <td>10258</td>\n",
       "      <td>8</td>\n",
       "      <td>3.0</td>\n",
       "    </tr>\n",
       "    <tr>\n",
       "      <th>2</th>\n",
       "      <td>1</td>\n",
       "      <td>12427</td>\n",
       "      <td>9</td>\n",
       "      <td>2.0</td>\n",
       "    </tr>\n",
       "    <tr>\n",
       "      <th>3</th>\n",
       "      <td>1</td>\n",
       "      <td>13032</td>\n",
       "      <td>2</td>\n",
       "      <td>5.0</td>\n",
       "    </tr>\n",
       "    <tr>\n",
       "      <th>4</th>\n",
       "      <td>1</td>\n",
       "      <td>13176</td>\n",
       "      <td>1</td>\n",
       "      <td>7.0</td>\n",
       "    </tr>\n",
       "    <tr>\n",
       "      <th>5</th>\n",
       "      <td>1</td>\n",
       "      <td>25133</td>\n",
       "      <td>7</td>\n",
       "      <td>4.0</td>\n",
       "    </tr>\n",
       "    <tr>\n",
       "      <th>6</th>\n",
       "      <td>1</td>\n",
       "      <td>26088</td>\n",
       "      <td>1</td>\n",
       "      <td>8.0</td>\n",
       "    </tr>\n",
       "    <tr>\n",
       "      <th>7</th>\n",
       "      <td>1</td>\n",
       "      <td>26405</td>\n",
       "      <td>1</td>\n",
       "      <td>9.0</td>\n",
       "    </tr>\n",
       "    <tr>\n",
       "      <th>8</th>\n",
       "      <td>1</td>\n",
       "      <td>46149</td>\n",
       "      <td>2</td>\n",
       "      <td>6.0</td>\n",
       "    </tr>\n",
       "    <tr>\n",
       "      <th>9</th>\n",
       "      <td>1</td>\n",
       "      <td>49235</td>\n",
       "      <td>1</td>\n",
       "      <td>10.0</td>\n",
       "    </tr>\n",
       "    <tr>\n",
       "      <th>10</th>\n",
       "      <td>2</td>\n",
       "      <td>1559</td>\n",
       "      <td>5</td>\n",
       "      <td>4.0</td>\n",
       "    </tr>\n",
       "    <tr>\n",
       "      <th>11</th>\n",
       "      <td>2</td>\n",
       "      <td>2002</td>\n",
       "      <td>3</td>\n",
       "      <td>10.0</td>\n",
       "    </tr>\n",
       "    <tr>\n",
       "      <th>12</th>\n",
       "      <td>2</td>\n",
       "      <td>2573</td>\n",
       "      <td>1</td>\n",
       "      <td>22.0</td>\n",
       "    </tr>\n",
       "    <tr>\n",
       "      <th>13</th>\n",
       "      <td>2</td>\n",
       "      <td>7781</td>\n",
       "      <td>2</td>\n",
       "      <td>15.0</td>\n",
       "    </tr>\n",
       "    <tr>\n",
       "      <th>14</th>\n",
       "      <td>2</td>\n",
       "      <td>9681</td>\n",
       "      <td>1</td>\n",
       "      <td>23.0</td>\n",
       "    </tr>\n",
       "    <tr>\n",
       "      <th>15</th>\n",
       "      <td>2</td>\n",
       "      <td>12000</td>\n",
       "      <td>4</td>\n",
       "      <td>7.0</td>\n",
       "    </tr>\n",
       "    <tr>\n",
       "      <th>16</th>\n",
       "      <td>2</td>\n",
       "      <td>13351</td>\n",
       "      <td>1</td>\n",
       "      <td>24.0</td>\n",
       "    </tr>\n",
       "    <tr>\n",
       "      <th>17</th>\n",
       "      <td>2</td>\n",
       "      <td>16589</td>\n",
       "      <td>4</td>\n",
       "      <td>8.0</td>\n",
       "    </tr>\n",
       "    <tr>\n",
       "      <th>18</th>\n",
       "      <td>2</td>\n",
       "      <td>17758</td>\n",
       "      <td>1</td>\n",
       "      <td>25.0</td>\n",
       "    </tr>\n",
       "    <tr>\n",
       "      <th>19</th>\n",
       "      <td>2</td>\n",
       "      <td>17872</td>\n",
       "      <td>2</td>\n",
       "      <td>16.0</td>\n",
       "    </tr>\n",
       "    <tr>\n",
       "      <th>20</th>\n",
       "      <td>2</td>\n",
       "      <td>18523</td>\n",
       "      <td>5</td>\n",
       "      <td>5.0</td>\n",
       "    </tr>\n",
       "    <tr>\n",
       "      <th>21</th>\n",
       "      <td>2</td>\n",
       "      <td>19051</td>\n",
       "      <td>3</td>\n",
       "      <td>11.0</td>\n",
       "    </tr>\n",
       "    <tr>\n",
       "      <th>22</th>\n",
       "      <td>2</td>\n",
       "      <td>19156</td>\n",
       "      <td>5</td>\n",
       "      <td>6.0</td>\n",
       "    </tr>\n",
       "    <tr>\n",
       "      <th>23</th>\n",
       "      <td>2</td>\n",
       "      <td>20574</td>\n",
       "      <td>1</td>\n",
       "      <td>26.0</td>\n",
       "    </tr>\n",
       "    <tr>\n",
       "      <th>24</th>\n",
       "      <td>2</td>\n",
       "      <td>21376</td>\n",
       "      <td>1</td>\n",
       "      <td>27.0</td>\n",
       "    </tr>\n",
       "  </tbody>\n",
       "</table>\n",
       "</div>"
      ],
      "text/plain": [
       "    user_id  product_id  reorder_count  reorder_rank\n",
       "0         1         196              9           1.0\n",
       "1         1       10258              8           3.0\n",
       "2         1       12427              9           2.0\n",
       "3         1       13032              2           5.0\n",
       "4         1       13176              1           7.0\n",
       "5         1       25133              7           4.0\n",
       "6         1       26088              1           8.0\n",
       "7         1       26405              1           9.0\n",
       "8         1       46149              2           6.0\n",
       "9         1       49235              1          10.0\n",
       "10        2        1559              5           4.0\n",
       "11        2        2002              3          10.0\n",
       "12        2        2573              1          22.0\n",
       "13        2        7781              2          15.0\n",
       "14        2        9681              1          23.0\n",
       "15        2       12000              4           7.0\n",
       "16        2       13351              1          24.0\n",
       "17        2       16589              4           8.0\n",
       "18        2       17758              1          25.0\n",
       "19        2       17872              2          16.0\n",
       "20        2       18523              5           5.0\n",
       "21        2       19051              3          11.0\n",
       "22        2       19156              5           6.0\n",
       "23        2       20574              1          26.0\n",
       "24        2       21376              1          27.0"
      ]
     },
     "execution_count": 227,
     "metadata": {},
     "output_type": "execute_result"
    }
   ],
   "source": [
    "reordered_products_per_user.head(25)"
   ]
  },
  {
   "cell_type": "markdown",
   "metadata": {},
   "source": [
    "## Predict for Validation"
   ]
  },
  {
   "cell_type": "code",
   "execution_count": 245,
   "metadata": {},
   "outputs": [],
   "source": [
    "conn = sqlite3.connect(\"instacart.db\")\n",
    "cur = conn.cursor()\n",
    "\n",
    "# Grab validation orders and user ids\n",
    "validation_4_pred = pd.read_sql_query(\"SELECT order_id, user_id \"\n",
    "                                      \"FROM orders \"\n",
    "                                      \"WHERE eval_set = 'train' \"\n",
    "                                      \"  AND order_id % 10 >= 7;\", conn)\n",
    "\n",
    "conn.close()"
   ]
  },
  {
   "cell_type": "code",
   "execution_count": 272,
   "metadata": {},
   "outputs": [],
   "source": [
    "# Convert to dictionaries to speed everything up\n",
    "\n",
    "# Order ID: user_id\n",
    "validation_4_pred_dict = validation_4_pred.set_index('order_id')['user_id'].to_dict()\n",
    "\n",
    "# user_id: reorder_avg\n",
    "reorder_per_user_prior_dict = reorder_per_user_prior.set_index('user_id')['reorder_avg'].to_dict()"
   ]
  },
  {
   "cell_type": "code",
   "execution_count": 289,
   "metadata": {
    "code_folding": []
   },
   "outputs": [
    {
     "name": "stdout",
     "output_type": "stream",
     "text": [
      "0.02526017985248055\n",
      "0.0505203597049611\n",
      "0.07578053955744164\n",
      "0.1010407194099222\n",
      "0.12630089926240276\n",
      "0.15156107911488328\n",
      "0.17682125896736384\n",
      "0.2020814388198444\n",
      "0.22734161867232494\n",
      "0.2526017985248055\n",
      "0.27786197837728605\n",
      "0.30312215822976657\n",
      "0.32838233808224715\n",
      "0.3536425179347277\n",
      "0.37890269778720825\n",
      "0.4041628776396888\n",
      "0.42942305749216936\n",
      "0.4546832373446499\n",
      "0.47994341719713046\n",
      "0.505203597049611\n",
      "0.5304637769020916\n",
      "0.5557239567545721\n",
      "0.5809841366070526\n",
      "0.6062443164595331\n",
      "0.6315044963120138\n",
      "0.6567646761644943\n",
      "0.6820248560169748\n",
      "0.7072850358694553\n",
      "0.732545215721936\n",
      "0.7578053955744165\n",
      "0.783065575426897\n",
      "0.8083257552793776\n",
      "0.8335859351318582\n",
      "0.8588461149843387\n",
      "0.8841062948368192\n",
      "0.9093664746892998\n",
      "0.9346266545417803\n",
      "0.9598868343942609\n",
      "0.9851470142467414\n"
     ]
    }
   ],
   "source": [
    "# Create a dictionary to house predictions\n",
    "naive_pred = {}\n",
    "\n",
    "progress_counter = 0 \n",
    "\n",
    "# For each order:\n",
    "for order in validation_4_pred_dict.keys():\n",
    "    \n",
    "    # Watch the progress\n",
    "    progress_counter += 1\n",
    "    if progress_counter % 1000 == 0:\n",
    "        print(progress_counter/39588)\n",
    "        \n",
    "    # look up the reorder_count by user_id in reorder_per_user_prior\n",
    "    reorder_count = np.floor(reorder_per_user_prior_dict[validation_4_pred_dict[order]])\n",
    "    \n",
    "    # Create an entry in naive_pred:\n",
    "    naive_pred[order] = set()\n",
    "      \n",
    "    # If the reorder count is 0, add \"None\"\n",
    "    if reorder_count == 0:\n",
    "        naive_pred[order].add(\"None\")\n",
    "    else:\n",
    "        # Otherwise, add most frequently reordered items:\n",
    "\n",
    "        # Get the user_id's products\n",
    "        reorder_products = reordered_products_per_user[reordered_products_per_user.user_id == validation_4_pred_dict[order]]\n",
    "\n",
    "        # Convert products to dictionary by rank\n",
    "        reorder_prods_dict = reorder_products.set_index('reorder_rank')['product_id'].to_dict()\n",
    "      \n",
    "        # For each rank less than avg:\n",
    "        for itemNum in range(int(reorder_count)):\n",
    "            # Add it to the prediction\n",
    "            naive_pred[order].add(reorder_prods_dict[itemNum+1])\n"
   ]
  },
  {
   "cell_type": "code",
   "execution_count": 288,
   "metadata": {},
   "outputs": [
    {
     "data": {
      "text/plain": [
       "39588"
      ]
     },
     "execution_count": 288,
     "metadata": {},
     "output_type": "execute_result"
    }
   ],
   "source": [
    "len(validation_4_pred_dict.keys())\n",
    "#reorder_prods_dict[4]"
   ]
  },
  {
   "cell_type": "code",
   "execution_count": 298,
   "metadata": {},
   "outputs": [
    {
     "name": "stdout",
     "output_type": "stream",
     "text": [
      "True Positives:  887\n",
      "False Positives: 183617\n",
      "False Negatives: 253235\n",
      "Precision:       0.0048074838485886486\n",
      "Recall:          0.003490449469152612\n",
      "----------------------------\n",
      "F1: 0.004044447889545991\n"
     ]
    }
   ],
   "source": [
    "naive_f1, naive_true, naive_falsep, naive_falsen = f1(naive_pred, actual_results)"
   ]
  },
  {
   "cell_type": "code",
   "execution_count": 308,
   "metadata": {},
   "outputs": [
    {
     "data": {
      "text/html": [
       "<div>\n",
       "<table border=\"1\" class=\"dataframe\">\n",
       "  <thead>\n",
       "    <tr style=\"text-align: right;\">\n",
       "      <th></th>\n",
       "      <th>Model</th>\n",
       "      <th>F1</th>\n",
       "      <th>True Positives</th>\n",
       "      <th>False Positive</th>\n",
       "      <th>False Negatives</th>\n",
       "    </tr>\n",
       "  </thead>\n",
       "  <tbody>\n",
       "    <tr>\n",
       "      <th>0</th>\n",
       "      <td>Dummy - None</td>\n",
       "      <td>0.017609</td>\n",
       "      <td>2586.0</td>\n",
       "      <td>37002.0</td>\n",
       "      <td>251536.0</td>\n",
       "    </tr>\n",
       "    <tr>\n",
       "      <th>0</th>\n",
       "      <td>Naive - predict most reordered</td>\n",
       "      <td>0.004044</td>\n",
       "      <td>887.0</td>\n",
       "      <td>183617.0</td>\n",
       "      <td>253235.0</td>\n",
       "    </tr>\n",
       "  </tbody>\n",
       "</table>\n",
       "</div>"
      ],
      "text/plain": [
       "                            Model        F1  True Positives  False Positive  \\\n",
       "0                    Dummy - None  0.017609          2586.0         37002.0   \n",
       "0  Naive - predict most reordered  0.004044           887.0        183617.0   \n",
       "\n",
       "   False Negatives  \n",
       "0         251536.0  \n",
       "0         253235.0  "
      ]
     },
     "execution_count": 308,
     "metadata": {},
     "output_type": "execute_result"
    }
   ],
   "source": [
    "# Append the naive results:\n",
    "naive_results = pd.DataFrame([['Naive - predict most reordered', naive_f1, naive_true, naive_falsep, naive_falsen]]\n",
    "                             , columns=[\"Model\", \"F1\",\"True Positives\", \"False Positive\", \"False Negatives\"])\n",
    "results = results.append(naive_results)\n",
    "results"
   ]
  },
  {
   "cell_type": "code",
   "execution_count": null,
   "metadata": {
    "collapsed": true
   },
   "outputs": [],
   "source": []
  }
 ],
 "metadata": {
  "anaconda-cloud": {},
  "kernelspec": {
   "display_name": "Python 3",
   "language": "python",
   "name": "python3"
  },
  "language_info": {
   "codemirror_mode": {
    "name": "ipython",
    "version": 3
   },
   "file_extension": ".py",
   "mimetype": "text/x-python",
   "name": "python",
   "nbconvert_exporter": "python",
   "pygments_lexer": "ipython3",
   "version": "3.6.0"
  },
  "toc": {
   "colors": {
    "hover_highlight": "#DAA520",
    "navigate_num": "#000000",
    "navigate_text": "#333333",
    "running_highlight": "#FF0000",
    "selected_highlight": "#FFD700",
    "sidebar_border": "#EEEEEE",
    "wrapper_background": "#FFFFFF"
   },
   "moveMenuLeft": true,
   "nav_menu": {
    "height": "117px",
    "width": "252px"
   },
   "navigate_menu": true,
   "number_sections": true,
   "sideBar": true,
   "threshold": 4,
   "toc_cell": false,
   "toc_section_display": "block",
   "toc_window_display": false,
   "widenNotebook": false
  }
 },
 "nbformat": 4,
 "nbformat_minor": 1
}
