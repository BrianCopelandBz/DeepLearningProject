{
 "cells": [
  {
   "cell_type": "markdown",
   "metadata": {},
   "source": [
    "# Track Results Overview\n",
    "\n",
    "Per Jimmy, \n",
    "\n",
    "> Also one should always track the results of the experiments to be able to compare different approaches. Let's create pandas DataFrame for this purpose. \n",
    "\n",
    "I couldn't say it better. \n",
    "\n",
    "This python notebook creates a table in our instacart.db and initializes it with a dummy model. This notebook only needs to be run once to initialize the testing dataset"
   ]
  },
  {
   "cell_type": "markdown",
   "metadata": {},
   "source": [
    "# Initialize Results Tracking Table"
   ]
  },
  {
   "cell_type": "code",
   "execution_count": 6,
   "metadata": {
    "collapsed": true
   },
   "outputs": [],
   "source": [
    "con = sqlite3.connect(\"instacart.db\")\n",
    "cur = con.cursor()\n",
    "\n",
    "# Create results table\n",
    "cur.execute(\"DROP TABLE IF EXISTS model_results;\")\n",
    "cur.execute(\"CREATE TABLE model_results (Model string, F1 float, True_Positives integer, \"\n",
    "            \"False_Positives integer, False_Negatives integer);\")\n",
    "\n",
    "con.commit()\n",
    "con.close()"
   ]
  },
  {
   "cell_type": "markdown",
   "metadata": {},
   "source": [
    "# Create Dummy Model to Test\n",
    "\n",
    "Let's predict 'None' for every single order, just to calculate F1 and append to our new results tables"
   ]
  },
  {
   "cell_type": "code",
   "execution_count": 16,
   "metadata": {
    "collapsed": true
   },
   "outputs": [],
   "source": [
    "# dictionary of orders where the products predicted will all be none\n",
    "dummy_results = {}\n",
    "\n",
    "# Load the actual results (courtesy of another notebook) to build off of:\n",
    "%run Load_actual_results.ipynb\n",
    "\n",
    "# Convert evaluation framework: results[order_id] = set([product1, product2, ...])\n",
    "for row in actual_results_raw.itertuples():\n",
    "    if row.order_id not in dummy_results:\n",
    "        dummy_results[row.order_id] = set()\n",
    "    dummy_results[row.order_id].add('None')\n",
    "  \n"
   ]
  },
  {
   "cell_type": "markdown",
   "metadata": {},
   "source": [
    "# Load f1 scoring function"
   ]
  },
  {
   "cell_type": "code",
   "execution_count": 17,
   "metadata": {},
   "outputs": [
    {
     "name": "stdout",
     "output_type": "stream",
     "text": [
      "\n",
      "\n"
     ]
    }
   ],
   "source": [
    "# Read in F1 Score: \n",
    "%run F1_Score.ipynb\n"
   ]
  },
  {
   "cell_type": "markdown",
   "metadata": {},
   "source": [
    "# Score dummy model"
   ]
  },
  {
   "cell_type": "code",
   "execution_count": 18,
   "metadata": {},
   "outputs": [
    {
     "name": "stdout",
     "output_type": "stream",
     "text": [
      "True Positives:  2586\n",
      "False Positives: 37002\n",
      "False Negatives: 251536\n",
      "Precision:       0.0653228250985147\n",
      "Recall:          0.010176214574102203\n",
      "----------------------------\n",
      "F1: 0.017609206360014982\n"
     ]
    }
   ],
   "source": [
    "# Calculate F1 on the dummy_results\n",
    "dummy_results = f1(dummy_results,actual_results)"
   ]
  },
  {
   "cell_type": "markdown",
   "metadata": {},
   "source": [
    "# Load to model_results"
   ]
  },
  {
   "cell_type": "code",
   "execution_count": 19,
   "metadata": {
    "collapsed": true
   },
   "outputs": [],
   "source": [
    "con = sqlite3.connect(\"instacart.db\")\n",
    "cur = con.cursor()\n",
    "\n",
    "cur.execute(\"INSERT INTO model_results (Model, F1, True_Positives, \"\n",
    "            \"False_Positives, False_Negatives) VALUES (?, ?, ?, ?, ?);\", \n",
    "            list((\"Dummy Model\",) + dummy_results) )\n",
    "\n",
    "con.commit()\n",
    "con.close()"
   ]
  },
  {
   "cell_type": "markdown",
   "metadata": {},
   "source": [
    "# Print contents of table"
   ]
  },
  {
   "cell_type": "code",
   "execution_count": 22,
   "metadata": {},
   "outputs": [
    {
     "name": "stdout",
     "output_type": "stream",
     "text": [
      "         Model        F1  True_Positives  False_Positives  False_Negatives\n",
      "0  Dummy Model  0.017609            2586            37002           251536\n"
     ]
    }
   ],
   "source": [
    "import pandas as pd\n",
    "\n",
    "con = sqlite3.connect(\"instacart.db\")\n",
    "cur = con.cursor()\n",
    "\n",
    "\n",
    "print(pd.read_sql_query(\"SELECT * FROM model_Results;\", con))\n",
    "\n",
    "con.close()"
   ]
  }
 ],
 "metadata": {
  "kernelspec": {
   "display_name": "Python 3",
   "language": "python",
   "name": "python3"
  },
  "language_info": {
   "codemirror_mode": {
    "name": "ipython",
    "version": 3
   },
   "file_extension": ".py",
   "mimetype": "text/x-python",
   "name": "python",
   "nbconvert_exporter": "python",
   "pygments_lexer": "ipython3",
   "version": "3.6.0"
  },
  "toc": {
   "colors": {
    "hover_highlight": "#DAA520",
    "navigate_num": "#000000",
    "navigate_text": "#333333",
    "running_highlight": "#FF0000",
    "selected_highlight": "#FFD700",
    "sidebar_border": "#EEEEEE",
    "wrapper_background": "#FFFFFF"
   },
   "moveMenuLeft": true,
   "nav_menu": {
    "height": "138px",
    "width": "252px"
   },
   "navigate_menu": true,
   "number_sections": true,
   "sideBar": true,
   "threshold": 4,
   "toc_cell": false,
   "toc_section_display": "block",
   "toc_window_display": true,
   "widenNotebook": false
  }
 },
 "nbformat": 4,
 "nbformat_minor": 2
}
