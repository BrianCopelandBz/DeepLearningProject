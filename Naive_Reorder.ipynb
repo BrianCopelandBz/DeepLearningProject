{
 "cells": [
  {
   "cell_type": "markdown",
   "metadata": {},
   "source": [
    "# Naive Reorder Logic Overview\n",
    "\n",
    "Let us set a really simple baseline - for each user, find the number of reordered items in a basket, call it n, then take their n most frequently ordered items. \n",
    "\n",
    "Take the prior, then predict on validation and calculate accuracy"
   ]
  },
  {
   "cell_type": "code",
   "execution_count": 2,
   "metadata": {
    "collapsed": true
   },
   "outputs": [],
   "source": [
    "import sqlite3\n",
    "import numpy as np\n",
    "import pandas as pd"
   ]
  },
  {
   "cell_type": "markdown",
   "metadata": {},
   "source": [
    "# Average Reorder Per User"
   ]
  },
  {
   "cell_type": "code",
   "execution_count": 3,
   "metadata": {
    "collapsed": true
   },
   "outputs": [],
   "source": [
    "# For each user, calculate average number of reordered items in a basket\n",
    "conn = sqlite3.connect(\"instacart.db\")\n",
    "cur = conn.cursor()\n",
    "\n",
    "# Number of reorders per order\n",
    "cur.execute(\"CREATE TABLE reorder_per_order AS \"\n",
    "            \"SELECT order_id, SUM(reordered) as reordered \"\n",
    "            \"FROM products_prior \"\n",
    "           \"GROUP BY order_id;\")\n",
    "\n",
    "conn.commit()\n",
    "conn.close()"
   ]
  },
  {
   "cell_type": "code",
   "execution_count": null,
   "metadata": {
    "collapsed": true
   },
   "outputs": [],
   "source": [
    "# Join to orders to calculate average per user\n",
    "conn = sqlite3.connect(\"instacart.db\")\n",
    "cur = conn.cursor()\n",
    "\n",
    "# Drop prior table if exists\n",
    "cur.execute(\"DROP TABLE IF EXISTS reorder_per_user_prior;\")\n",
    "\n",
    "# Average reorders per user_id\n",
    "cur.execute(\"CREATE TABLE reorder_per_user_prior AS \"\n",
    "            \"SELECT A.user_id as user_id, AVG(B.reordered) as reorder_avg \"\n",
    "            \"FROM orders A INNER JOIN reorder_per_order B \"\n",
    "            \"ON A.order_id = B.order_id \"\n",
    "            \"WHERE A.order_number > 1 \" # Reorders arent possible on first order\n",
    "            \"GROUP BY A.user_id;\")\n",
    "\n",
    "conn.commit()\n",
    "conn.close()"
   ]
  },
  {
   "cell_type": "code",
   "execution_count": 10,
   "metadata": {},
   "outputs": [
    {
     "name": "stdout",
     "output_type": "stream",
     "text": [
      "   user_id  reorder_avg\n",
      "0        1     4.555556\n",
      "1        2     7.153846\n",
      "2        3     5.000000\n",
      "3        4     0.250000\n",
      "4        5     4.666667\n"
     ]
    }
   ],
   "source": [
    "# Spit out table into a dataframe\n",
    "conn = sqlite3.connect(\"instacart.db\")\n",
    "cur = conn.cursor()\n",
    "\n",
    "reorder_per_user_prior = pd.read_sql_query(\"SELECT * FROM reorder_per_user_prior;\", conn)\n",
    "\n",
    "# verify that result of SQL query is stored in the dataframe\n",
    "print(reorder_per_user_prior.head())\n",
    "\n",
    "conn.close()\n"
   ]
  },
  {
   "cell_type": "markdown",
   "metadata": {},
   "source": [
    "# Most Reordered Products Per User"
   ]
  },
  {
   "cell_type": "code",
   "execution_count": null,
   "metadata": {
    "collapsed": true
   },
   "outputs": [],
   "source": [
    "# Join products to orders, count reorders\n",
    "conn = sqlite3.connect(\"instacart.db\")\n",
    "cur = conn.cursor()\n",
    "\n",
    "cur.execute(\"DROP TABLE IF EXISTS reorder_by_user_product;\")\n",
    "\n",
    "# Calculate reorder_count per user per product\n",
    "cur.execute(\"CREATE TABLE reorder_by_user_product AS \"\n",
    "            \"SELECT A.user_id as user_id, \"\n",
    "            \"  B.product_id as product_id, \"\n",
    "            \"  count(*) as reorder_count \"\n",
    "            \"FROM orders A INNER JOIN products_prior B \"\n",
    "            \"  ON A.order_id = B.order_id \"\n",
    "            \"WHERE B.reordered = 1 \"\n",
    "            \"GROUP BY A.user_id, B.product_id;\")\n",
    "\n",
    "\n",
    "conn.commit()\n",
    "conn.close()"
   ]
  },
  {
   "cell_type": "code",
   "execution_count": 7,
   "metadata": {
    "collapsed": true
   },
   "outputs": [],
   "source": [
    "# Dump to python\n",
    "conn = sqlite3.connect(\"instacart.db\")\n",
    "reordered_products_per_user = pd.read_sql_query(\"SELECT * FROM reorder_by_user_product;\", conn)\n",
    "conn.close()"
   ]
  },
  {
   "cell_type": "code",
   "execution_count": 8,
   "metadata": {
    "collapsed": true
   },
   "outputs": [],
   "source": [
    "# Rank products by user\n",
    "reordered_products_per_user[\"reorder_rank\"] = reordered_products_per_user.groupby('user_id')['reorder_count'].rank(method=\"first\", ascending=False)"
   ]
  },
  {
   "cell_type": "markdown",
   "metadata": {},
   "source": [
    "# Predict for Validation"
   ]
  },
  {
   "cell_type": "code",
   "execution_count": 5,
   "metadata": {
    "collapsed": true
   },
   "outputs": [],
   "source": [
    "conn = sqlite3.connect(\"instacart.db\")\n",
    "cur = conn.cursor()\n",
    "\n",
    "# Grab validation orders and user ids\n",
    "validation_4_pred = pd.read_sql_query(\"SELECT order_id, user_id \"\n",
    "                                      \"FROM orders \"\n",
    "                                      \"WHERE eval_set = 'train' \"\n",
    "                                      \"  AND order_id % 10 >= 7;\", conn)\n",
    "\n",
    "conn.close()"
   ]
  },
  {
   "cell_type": "code",
   "execution_count": 11,
   "metadata": {
    "collapsed": true
   },
   "outputs": [],
   "source": [
    "# Convert to dictionaries to speed everything up\n",
    "\n",
    "# Order ID: user_id\n",
    "validation_4_pred_dict = validation_4_pred.set_index('order_id')['user_id'].to_dict()\n",
    "\n",
    "# user_id: reorder_avg\n",
    "reorder_per_user_prior_dict = reorder_per_user_prior.set_index('user_id')['reorder_avg'].to_dict()"
   ]
  },
  {
   "cell_type": "code",
   "execution_count": 12,
   "metadata": {},
   "outputs": [
    {
     "name": "stdout",
     "output_type": "stream",
     "text": [
      "0.02526017985248055\n",
      "0.0505203597049611\n",
      "0.07578053955744164\n",
      "0.1010407194099222\n",
      "0.12630089926240276\n",
      "0.15156107911488328\n",
      "0.17682125896736384\n",
      "0.2020814388198444\n",
      "0.22734161867232494\n",
      "0.2526017985248055\n",
      "0.27786197837728605\n",
      "0.30312215822976657\n",
      "0.32838233808224715\n",
      "0.3536425179347277\n",
      "0.37890269778720825\n",
      "0.4041628776396888\n",
      "0.42942305749216936\n",
      "0.4546832373446499\n",
      "0.47994341719713046\n",
      "0.505203597049611\n",
      "0.5304637769020916\n",
      "0.5557239567545721\n",
      "0.5809841366070526\n",
      "0.6062443164595331\n",
      "0.6315044963120138\n",
      "0.6567646761644943\n",
      "0.6820248560169748\n",
      "0.7072850358694553\n",
      "0.732545215721936\n",
      "0.7578053955744165\n",
      "0.783065575426897\n",
      "0.8083257552793776\n",
      "0.8335859351318582\n",
      "0.8588461149843387\n",
      "0.8841062948368192\n",
      "0.9093664746892998\n",
      "0.9346266545417803\n",
      "0.9598868343942609\n",
      "0.9851470142467414\n"
     ]
    }
   ],
   "source": [
    "# Create a dictionary to house predictions\n",
    "naive_pred = {}\n",
    "\n",
    "progress_counter = 0 \n",
    "\n",
    "# For each order:\n",
    "for order in validation_4_pred_dict.keys():\n",
    "    \n",
    "    # Watch the progress\n",
    "    progress_counter += 1\n",
    "    if progress_counter % 1000 == 0:\n",
    "        print(progress_counter/39588)\n",
    "        \n",
    "    # look up the reorder_count by user_id in reorder_per_user_prior\n",
    "    reorder_count = np.floor(reorder_per_user_prior_dict[validation_4_pred_dict[order]])\n",
    "    \n",
    "    # Create an entry in naive_pred:\n",
    "    naive_pred[order] = set()\n",
    "      \n",
    "    # If the reorder count is 0, add \"None\"\n",
    "    if reorder_count == 0:\n",
    "        naive_pred[order].add(\"None\")\n",
    "    else:\n",
    "        # Otherwise, add most frequently reordered items:\n",
    "\n",
    "        # Get the user_id's products\n",
    "        reorder_products = reordered_products_per_user[reordered_products_per_user.user_id == validation_4_pred_dict[order]]\n",
    "\n",
    "        # Convert products to dictionary by rank\n",
    "        reorder_prods_dict = reorder_products.set_index('reorder_rank')['product_id'].to_dict()\n",
    "      \n",
    "        # For each rank less than avg:\n",
    "        for itemNum in range(int(reorder_count)):\n",
    "            # Add it to the prediction\n",
    "            naive_pred[order].add(reorder_prods_dict[itemNum+1])\n"
   ]
  },
  {
   "cell_type": "markdown",
   "metadata": {},
   "source": [
    "# Read in F1, actual_results"
   ]
  },
  {
   "cell_type": "code",
   "execution_count": 4,
   "metadata": {},
   "outputs": [
    {
     "name": "stdout",
     "output_type": "stream",
     "text": [
      "\n",
      "\n"
     ]
    }
   ],
   "source": [
    "%run F1_score.ipynb\n",
    "%run Load_actual_results.ipynb"
   ]
  },
  {
   "cell_type": "markdown",
   "metadata": {},
   "source": [
    "# Score and Record"
   ]
  },
  {
   "cell_type": "code",
   "execution_count": 13,
   "metadata": {},
   "outputs": [
    {
     "name": "stdout",
     "output_type": "stream",
     "text": [
      "True Positives:  887\n",
      "False Positives: 183617\n",
      "False Negatives: 253235\n",
      "Precision:       0.0048074838485886486\n",
      "Recall:          0.003490449469152612\n",
      "----------------------------\n",
      "F1: 0.004044447889545991\n"
     ]
    }
   ],
   "source": [
    "# Score the naive_reorder model\n",
    "naive_reorder = f1(naive_pred, actual_results)"
   ]
  },
  {
   "cell_type": "code",
   "execution_count": 17,
   "metadata": {},
   "outputs": [
    {
     "name": "stdout",
     "output_type": "stream",
     "text": [
      "           Model        F1  True_Positives  False_Positives  False_Negatives\n",
      "0    Dummy Model  0.017609            2586            37002           251536\n",
      "1  Naive_Reorder  0.004044             887           183617           253235\n"
     ]
    }
   ],
   "source": [
    "# Open connection to instacart.db\n",
    "import sqlite3\n",
    "import pandas as pd\n",
    "con = sqlite3.connect(\"instacart.db\")\n",
    "cur = con.cursor()\n",
    "\n",
    "# Insert into model results\n",
    "cur.execute(\"INSERT INTO model_results (Model, F1, True_Positives, \"\n",
    "            \"False_Positives, False_Negatives) VALUES (?, ?, ?, ?, ?);\",\n",
    "            list((\"Naive_Reorder\",) + naive_reorder ) )\n",
    "\n",
    "# Print contents of model_results\n",
    "print(pd.read_sql_query(\"SELECT * FROM model_Results;\", con))\n",
    "\n",
    "con.commit()\n",
    "con.close()"
   ]
  },
  {
   "cell_type": "code",
   "execution_count": null,
   "metadata": {
    "collapsed": true
   },
   "outputs": [],
   "source": []
  }
 ],
 "metadata": {
  "kernelspec": {
   "display_name": "Python 3",
   "language": "python",
   "name": "python3"
  },
  "language_info": {
   "codemirror_mode": {
    "name": "ipython",
    "version": 3
   },
   "file_extension": ".py",
   "mimetype": "text/x-python",
   "name": "python",
   "nbconvert_exporter": "python",
   "pygments_lexer": "ipython3",
   "version": "3.6.0"
  },
  "toc": {
   "colors": {
    "hover_highlight": "#DAA520",
    "navigate_num": "#000000",
    "navigate_text": "#333333",
    "running_highlight": "#FF0000",
    "selected_highlight": "#FFD700",
    "sidebar_border": "#EEEEEE",
    "wrapper_background": "#FFFFFF"
   },
   "moveMenuLeft": true,
   "nav_menu": {
    "height": "120px",
    "width": "252px"
   },
   "navigate_menu": true,
   "number_sections": true,
   "sideBar": true,
   "threshold": 4,
   "toc_cell": false,
   "toc_section_display": "block",
   "toc_window_display": false,
   "widenNotebook": false
  }
 },
 "nbformat": 4,
 "nbformat_minor": 2
}
