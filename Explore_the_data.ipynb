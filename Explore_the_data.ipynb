{
 "cells": [
  {
   "cell_type": "markdown",
   "metadata": {},
   "source": [
    "# Notebook to just try stuff\n",
    "\n",
    "Sometimes ya just want to put a snippet of code, ya know? "
   ]
  },
  {
   "cell_type": "code",
   "execution_count": 3,
   "metadata": {
    "collapsed": true
   },
   "outputs": [],
   "source": [
    "# Import stuff\n",
    "import numpy as np\n",
    "import pandas as pd\n",
    "import sqlite3"
   ]
  },
  {
   "cell_type": "code",
   "execution_count": 4,
   "metadata": {},
   "outputs": [
    {
     "name": "stdout",
     "output_type": "stream",
     "text": [
      "[(2, 33120, 1, 1), (2, 28985, 2, 1), (2, 9327, 3, 0), (2, 45918, 4, 1), (2, 30035, 5, 0)]\n"
     ]
    }
   ],
   "source": [
    "# Check data\n",
    "con = sqlite3.connect(\"instacart.db\")\n",
    "cur = con.cursor()\n",
    "\n",
    "cur.execute('SELECT * FROM products_prior LIMIT 5;')\n",
    "all_rows = cur.fetchall()\n",
    "print(all_rows)\n",
    "\n",
    "con.commit()\n",
    "con.close()"
   ]
  },
  {
   "cell_type": "code",
   "execution_count": 5,
   "metadata": {},
   "outputs": [
    {
     "name": "stdout",
     "output_type": "stream",
     "text": [
      "[(17997, 4210, 99), (41356, 6583, 99), (41356, 14366, 99), (41356, 38652, 99), (141736, 25133, 99)]\n"
     ]
    }
   ],
   "source": [
    "# Check that there are 5 products purchased 99 times\n",
    "con = sqlite3.connect(\"instacart.db\")\n",
    "cur = con.cursor()\n",
    "\n",
    "cur.execute('SELECT * FROM user_prod_freq where purch_freq = 99;')\n",
    "all_rows = cur.fetchall()\n",
    "print(all_rows)\n",
    "\n",
    "con.commit()\n",
    "con.close()"
   ]
  },
  {
   "cell_type": "markdown",
   "metadata": {},
   "source": [
    "# Split testset into train and validation\n",
    "\n",
    "The orders table consists of three types of orders: \n",
    "\n",
    "| eval_set  | Records | Purpose |\n",
    "|:----------|:-----------|:-----|\n",
    "|prior |3,214,874 |Prior orders that provide history for other two sets  |\n",
    "|train |131,209 |The last order for training on\n",
    "|test | 75,000 |Orders for which to predict the future orders then submit on Kaggle.com\n",
    "\n",
    "Thus, test is off limits and not really touched. But from train, I can make a validation set by splitting it up. Let's do it with the last digit of order_id. \n",
    "\n",
    "**If order_id % 10 >= 7 and eval_set = 'train', then 'validation'**"
   ]
  },
  {
   "cell_type": "code",
   "execution_count": null,
   "metadata": {
    "collapsed": true
   },
   "outputs": [],
   "source": []
  }
 ],
 "metadata": {
  "kernelspec": {
   "display_name": "Python 3",
   "language": "python",
   "name": "python3"
  },
  "language_info": {
   "codemirror_mode": {
    "name": "ipython",
    "version": 3
   },
   "file_extension": ".py",
   "mimetype": "text/x-python",
   "name": "python",
   "nbconvert_exporter": "python",
   "pygments_lexer": "ipython3",
   "version": "3.6.0"
  },
  "toc": {
   "colors": {
    "hover_highlight": "#DAA520",
    "navigate_num": "#000000",
    "navigate_text": "#333333",
    "running_highlight": "#FF0000",
    "selected_highlight": "#FFD700",
    "sidebar_border": "#EEEEEE",
    "wrapper_background": "#FFFFFF"
   },
   "moveMenuLeft": true,
   "nav_menu": {
    "height": "48px",
    "width": "252px"
   },
   "navigate_menu": true,
   "number_sections": true,
   "sideBar": true,
   "threshold": 4,
   "toc_cell": false,
   "toc_section_display": "block",
   "toc_window_display": false,
   "widenNotebook": false
  }
 },
 "nbformat": 4,
 "nbformat_minor": 2
}
