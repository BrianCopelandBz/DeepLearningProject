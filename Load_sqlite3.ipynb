{
 "cells": [
  {
   "cell_type": "markdown",
   "metadata": {},
   "source": [
    "\n",
    "# Load Data Overview\n",
    "\n",
    "The InstaCart Data (https://www.kaggle.com/c/instacart-market-basket-analysis/data) is slightly too large for in-memory merging, so let's use a sqlite3 database to store and do large transformations. \n",
    "\n",
    "Additionally, now we can operate separate notebooks / on the same features by storing in a database. Yay!"
   ]
  },
  {
   "cell_type": "code",
   "execution_count": 1,
   "metadata": {
    "collapsed": true
   },
   "outputs": [],
   "source": [
    "# Initialize\n",
    "import csv, sqlite3"
   ]
  },
  {
   "cell_type": "markdown",
   "metadata": {},
   "source": [
    "# orders.csv"
   ]
  },
  {
   "cell_type": "code",
   "execution_count": null,
   "metadata": {
    "collapsed": true
   },
   "outputs": [],
   "source": [
    "# Connect to database\n",
    "con = sqlite3.connect(\"instacart.db\")\n",
    "cur = con.cursor()\n",
    "\n",
    "# Create orders table in sqlite3\n",
    "cur.execute(\"DROP TABLE IF EXISTS orders;\")\n",
    "cur.execute(\"CREATE TABLE orders (order_id integer, user_id integer, eval_set string, order_number integer, order_dow integer,order_hour_of_day integer,days_since_prior_order integer);\")\n",
    "\n",
    "with open('data/orders.csv') as csvfile: \n",
    "    reader = csv.DictReader(csvfile)\n",
    "    for row in reader:\n",
    "        cur.execute(\"INSERT INTO orders (order_id,user_id,eval_set,order_number,order_dow,order_hour_of_day,days_since_prior_order ) VALUES (?, ?, ?, ?, ?, ?, ?);\", list(row.values()))\n",
    "\n",
    "con.commit()\n",
    "con.close()"
   ]
  },
  {
   "cell_type": "markdown",
   "metadata": {},
   "source": [
    "# order_products__prior.csv"
   ]
  },
  {
   "cell_type": "code",
   "execution_count": null,
   "metadata": {
    "collapsed": true
   },
   "outputs": [],
   "source": [
    "con = sqlite3.connect(\"instacart.db\")\n",
    "cur = con.cursor()\n",
    "\n",
    "# Create prior order producs table in sqlite3\n",
    "cur.execute(\"DROP TABLE IF EXISTS products_prior;\")\n",
    "cur.execute(\"CREATE TABLE products_prior (order_id integer, product_id integer, add_to_cart_order integer, reordered integer);\")\n",
    "\n",
    "with open('data/order_products__prior.csv', encoding='utf-8', errors='ignore') as csvfile: \n",
    "    reader = csv.DictReader(csvfile)\n",
    "    for row in reader:\n",
    "        cur.execute(\"INSERT INTO products_prior (order_id,product_id,add_to_cart_order,reordered) VALUES (?, ?, ?, ?);\", list(row.values()))\n",
    "\n",
    "con.commit()\n",
    "con.close()"
   ]
  },
  {
   "cell_type": "markdown",
   "metadata": {},
   "source": [
    "# products.csv"
   ]
  },
  {
   "cell_type": "code",
   "execution_count": null,
   "metadata": {
    "collapsed": true
   },
   "outputs": [],
   "source": [
    "con = sqlite3.connect(\"instacart.db\")\n",
    "cur = con.cursor()\n",
    "\n",
    "# Create prior order producs table in sqlite3\n",
    "cur.execute(\"DROP TABLE IF EXISTS products;\")\n",
    "cur.execute(\"CREATE TABLE products (product_id integer, product_name string, aisle_id integer, department_id integer);\")\n",
    "\n",
    "with open('data/products.csv', encoding='utf-8', errors='ignore') as csvfile: \n",
    "    reader = csv.DictReader(csvfile)\n",
    "    for row in reader:\n",
    "        cur.execute(\"INSERT INTO products (product_id,product_name,aisle_id,department_id) VALUES (?, ?, ?, ?);\", list(row.values()))\n",
    "\n",
    "con.commit()\n",
    "con.close()"
   ]
  },
  {
   "cell_type": "markdown",
   "metadata": {},
   "source": [
    "# aisles.csv"
   ]
  },
  {
   "cell_type": "code",
   "execution_count": null,
   "metadata": {
    "collapsed": true
   },
   "outputs": [],
   "source": [
    "con = sqlite3.connect(\"instacart.db\")\n",
    "cur = con.cursor()\n",
    "\n",
    "# Create prior order producs table in sqlite3\n",
    "cur.execute(\"DROP TABLE IF EXISTS aisles;\")\n",
    "cur.execute(\"CREATE TABLE aisles (aisle_id integer, aisle string);\")\n",
    "\n",
    "with open('data/aisles.csv', encoding='utf-8', errors='ignore') as csvfile: \n",
    "    reader = csv.DictReader(csvfile)\n",
    "    for row in reader:\n",
    "        cur.execute(\"INSERT INTO aisles (aisle_id,aisle) VALUES (?, ?);\", list(row.values()))\n",
    "\n",
    "con.commit()\n",
    "con.close()"
   ]
  },
  {
   "cell_type": "markdown",
   "metadata": {},
   "source": [
    "# departments.csv"
   ]
  },
  {
   "cell_type": "code",
   "execution_count": null,
   "metadata": {
    "collapsed": true
   },
   "outputs": [],
   "source": [
    "con = sqlite3.connect(\"instacart.db\")\n",
    "cur = con.cursor()\n",
    "\n",
    "# Create prior order producs table in sqlite3\n",
    "cur.execute(\"DROP TABLE IF EXISTS departments;\")\n",
    "cur.execute(\"CREATE TABLE departments (department_id integer, department string);\")\n",
    "\n",
    "with open('data/departments.csv', encoding='utf-8', errors='ignore') as csvfile: \n",
    "    reader = csv.DictReader(csvfile)\n",
    "    for row in reader:\n",
    "        cur.execute(\"INSERT INTO departments (department_id,department) VALUES (?, ?);\", list(row.values()))\n",
    "\n",
    "con.commit()\n",
    "con.close()"
   ]
  },
  {
   "cell_type": "markdown",
   "metadata": {},
   "source": [
    "# order_products__train.csv"
   ]
  },
  {
   "cell_type": "code",
   "execution_count": null,
   "metadata": {
    "collapsed": true
   },
   "outputs": [],
   "source": [
    "con = sqlite3.connect(\"instacart.db\")\n",
    "cur = con.cursor()\n",
    "\n",
    "# Create prior order producs table in sqlite3\n",
    "cur.execute(\"DROP TABLE IF EXISTS products_train;\")\n",
    "cur.execute(\"CREATE TABLE products_train (order_id integer, product_id integer, add_to_cart_order integer, reordered integer);\")\n",
    "\n",
    "with open('data/order_products__train.csv', encoding='utf-8', errors='ignore') as csvfile: \n",
    "    reader = csv.DictReader(csvfile)\n",
    "    for row in reader:\n",
    "        cur.execute(\"INSERT INTO products_train (order_id,product_id,add_to_cart_order,reordered) VALUES (?, ?, ?, ?);\", list(row.values()))\n",
    "\n",
    "con.commit()\n",
    "con.close()"
   ]
  }
 ],
 "metadata": {
  "kernelspec": {
   "display_name": "Python 3",
   "language": "python",
   "name": "python3"
  },
  "language_info": {
   "codemirror_mode": {
    "name": "ipython",
    "version": 3
   },
   "file_extension": ".py",
   "mimetype": "text/x-python",
   "name": "python",
   "nbconvert_exporter": "python",
   "pygments_lexer": "ipython3",
   "version": "3.6.0"
  },
  "toc": {
   "colors": {
    "hover_highlight": "#DAA520",
    "navigate_num": "#000000",
    "navigate_text": "#333333",
    "running_highlight": "#FF0000",
    "selected_highlight": "#FFD700",
    "sidebar_border": "#EEEEEE",
    "wrapper_background": "#FFFFFF"
   },
   "moveMenuLeft": true,
   "nav_menu": {
    "height": "138px",
    "width": "252px"
   },
   "navigate_menu": true,
   "number_sections": true,
   "sideBar": true,
   "threshold": 4,
   "toc_cell": false,
   "toc_section_display": "block",
   "toc_window_display": true,
   "widenNotebook": false
  }
 },
 "nbformat": 4,
 "nbformat_minor": 2
}
