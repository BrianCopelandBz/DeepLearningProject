{
 "cells": [
  {
   "cell_type": "markdown",
   "metadata": {},
   "source": [
    "# Create F1 score calculator"
   ]
  },
  {
   "cell_type": "markdown",
   "metadata": {},
   "source": [
    "The F1 mean score is used in this competition. \n",
    "\n",
    "```\n",
    "F1 = 2 * (Precision * Recall) / (Precision + Recall)\n",
    "```\n",
    "\n",
    "...where...\n",
    "\n",
    "```\n",
    "Precision = True Positives / (True Positives + False Positives)\n",
    "Recall = True Positives / (True Positives + False Negatives)\n",
    "```"
   ]
  },
  {
   "cell_type": "code",
   "execution_count": 10,
   "metadata": {
    "collapsed": true
   },
   "outputs": [],
   "source": [
    "# F1 takes two dictionaries, predicted and actual, and compares the two, returning the F1 score, \n",
    "# ...or raising an error\n",
    "def f1(pred,actual,printBool = True):\n",
    "    # Error Checking input:\n",
    "    # Are they the same size?\n",
    "    if len(pred.keys()) != len(actual.keys()):\n",
    "        raise AssertionError('Prediction set is not the same size as actual set')\n",
    "    \n",
    "    # Create aggregate scores:\n",
    "    true_positives, false_positives, false_negatives = 0, 0, 0\n",
    "    \n",
    "    # For each order\n",
    "    for order in actual.keys():\n",
    "        if order not in pred:\n",
    "            raise KeyError('order in actual not in prediction')\n",
    "        else:\n",
    "            # True positives is the size of the intersection\n",
    "            true_positives += len(actual[order].intersection(pred[order]))\n",
    "            # False positives are products in the prediction not in actual\n",
    "            false_positives += len(pred[order] - actual[order])\n",
    "            # False negatives are products in actual not in prediction\n",
    "            false_negatives += len(actual[order] - pred[order])\n",
    "    \n",
    "    # Calculate F1\n",
    "    precision = true_positives / (true_positives + false_positives) \n",
    "    recall = true_positives / (true_positives + false_negatives)\n",
    "    \n",
    "    # If there were zero true_positives, trivially call F1 0 to avoid division by zero:\n",
    "    F1 = 0 if true_positives == 0 else 2 * ( (precision * recall) / (precision + recall) )\n",
    "    \n",
    "    if printBool: \n",
    "        print(\"True Positives:  \" + str(true_positives))\n",
    "        print(\"False Positives: \" + str(false_positives))\n",
    "        print(\"False Negatives: \" + str(false_negatives))\n",
    "        print(\"Precision:       \" + str(precision))\n",
    "        print(\"Recall:          \" + str(recall))\n",
    "        print(\"----------------------------\")\n",
    "        print(\"F1: \" + str(F1))\n",
    "          \n",
    "    return F1, true_positives, false_positives, false_negatives\n",
    "    "
   ]
  },
  {
   "cell_type": "markdown",
   "metadata": {},
   "source": [
    "# Test F1\n",
    "\n",
    "## Perfect Match \n",
    "\n",
    "Let's check this implementation of F1 - first of all, if I submit the exact same dictionary for pred and actual, F1 should be 1.000."
   ]
  },
  {
   "cell_type": "code",
   "execution_count": 5,
   "metadata": {},
   "outputs": [],
   "source": [
    "# Create orders 0 through 99, then create between 0 and 100 random products\n",
    "import numpy as np\n",
    "\n",
    "random_products = {}\n",
    "\n",
    "for i in range(100):\n",
    "    basket_size = np.random.randint(0, 100)\n",
    "    random_products[i] = set()\n",
    "    if basket_size == 0:\n",
    "        random_products[i].add(\"None\")\n",
    "    else:\n",
    "        for j in range(basket_size):\n",
    "            random_products[i].add(str(np.random.randint(0,10000)))\n",
    "\n",
    "        \n",
    "# Calculate F1 on random_products against itself\n",
    "# Confirm that F1 score is 1.0\n",
    "test1 = f1(random_products, random_products, False)\n",
    "assert test1[0] == 1.0"
   ]
  },
  {
   "cell_type": "markdown",
   "metadata": {},
   "source": [
    "## One extra product\n",
    "\n",
    "For every order in random_products, append a false product, confirm that false positives == 100"
   ]
  },
  {
   "cell_type": "code",
   "execution_count": 6,
   "metadata": {},
   "outputs": [
    {
     "name": "stdout",
     "output_type": "stream",
     "text": [
      "\n",
      "\n"
     ]
    }
   ],
   "source": [
    "import copy\n",
    "\n",
    "# Copy random_products\n",
    "random_products_plus_one_wrong = copy.deepcopy(random_products)\n",
    "\n",
    "# For each item, add product 10001, which cannot be in any order\n",
    "for i in range(100):\n",
    "    random_products_plus_one_wrong[i].add(\"10001\")\n",
    "    \n",
    "\n",
    "# Confirm that false products (the third entry in the returned tuple) == 100\n",
    "test2 = f1(random_products_plus_one_wrong, random_products, False)\n",
    "assert test2[2] == 100\n",
    "\n",
    "print('\\n')\n",
    "\n",
    "# If I call random_products_plus_one_wrong the \"actual results\" and random_products the predictions,\n",
    "# that flips false positives to false negatives. \n",
    "# Assert that there are 100 false negatives here\n",
    "test3 = f1(random_products, random_products_plus_one_wrong, False)\n",
    "assert test3[3] == 100\n",
    "\n",
    "# Thus, F1 is symmetrical. Assert this: \n",
    "assert test2[0] == test3[0]"
   ]
  },
  {
   "cell_type": "markdown",
   "metadata": {},
   "source": [
    "## Totally Wrong\n",
    "\n",
    "Create a new set of orders that gets every single order wrong. Assert that F1 == 0.0\n"
   ]
  },
  {
   "cell_type": "code",
   "execution_count": 7,
   "metadata": {},
   "outputs": [],
   "source": [
    "all_wrong = {}\n",
    "\n",
    "for i in range(100):\n",
    "    all_wrong[i] = set()\n",
    "    all_wrong[i].add(\"10001\")\n",
    "\n",
    "# Since product \"10001\" was not in any order, this should get a 0 F1 score\n",
    "test4 = f1(all_wrong, random_products, False)\n",
    "assert test4[0] == 0"
   ]
  },
  {
   "cell_type": "markdown",
   "metadata": {},
   "source": [
    "## Missing Orders\n",
    "\n",
    "Make sure f1 throws an exception if the order ids are not the same size"
   ]
  },
  {
   "cell_type": "code",
   "execution_count": 8,
   "metadata": {},
   "outputs": [],
   "source": [
    "wrong_size = {}\n",
    "\n",
    "for i in range(99):\n",
    "    wrong_size[i] = set()\n",
    "    \n",
    "# Try and catch an assertion error\n",
    "try: \n",
    "    f1(wrong_size, random_products, False)\n",
    "except(AssertionError):\n",
    "    pass\n",
    "   "
   ]
  },
  {
   "cell_type": "markdown",
   "metadata": {},
   "source": [
    "## Not same order ids\n",
    "\n",
    "Ensure f1 throws a Key error if the orders don't match, even if size matches"
   ]
  },
  {
   "cell_type": "code",
   "execution_count": 9,
   "metadata": {},
   "outputs": [],
   "source": [
    "wrong_orders = {}\n",
    "\n",
    "for i in range(1, 101):\n",
    "    wrong_orders[i] = set()\n",
    "    \n",
    "# Try and catch a KeyError\n",
    "try:\n",
    "    f1(wrong_orders, random_products, False)\n",
    "except(KeyError):\n",
    "    pass"
   ]
  },
  {
   "cell_type": "code",
   "execution_count": null,
   "metadata": {
    "collapsed": true
   },
   "outputs": [],
   "source": []
  }
 ],
 "metadata": {
  "kernelspec": {
   "display_name": "Python 3",
   "language": "python",
   "name": "python3"
  },
  "language_info": {
   "codemirror_mode": {
    "name": "ipython",
    "version": 3
   },
   "file_extension": ".py",
   "mimetype": "text/x-python",
   "name": "python",
   "nbconvert_exporter": "python",
   "pygments_lexer": "ipython3",
   "version": "3.6.0"
  },
  "toc": {
   "colors": {
    "hover_highlight": "#DAA520",
    "navigate_num": "#000000",
    "navigate_text": "#333333",
    "running_highlight": "#FF0000",
    "selected_highlight": "#FFD700",
    "sidebar_border": "#EEEEEE",
    "wrapper_background": "#FFFFFF"
   },
   "moveMenuLeft": true,
   "nav_menu": {
    "height": "30px",
    "width": "252px"
   },
   "navigate_menu": true,
   "number_sections": true,
   "sideBar": true,
   "threshold": 4,
   "toc_cell": false,
   "toc_section_display": "block",
   "toc_window_display": true,
   "widenNotebook": false
  }
 },
 "nbformat": 4,
 "nbformat_minor": 2
}
