{
 "cells": [
  {
   "cell_type": "markdown",
   "metadata": {},
   "source": [
    "# Train/Validate Overview\n",
    "\n",
    "The orders table consists of three types of orders: \n",
    "\n",
    "| eval_set  | Records | Purpose |\n",
    "|:----------|:-----------|:-----|\n",
    "|prior |3,214,874 |Prior orders that provide history for other two sets  |\n",
    "|train |131,209 |The last order for training on\n",
    "|test | 75,000 |Orders for which to predict the future orders then submit on Kaggle.com\n",
    "\n",
    "Thus, test is off limits and not really touched. But from train, I can make a validation set by splitting it up. Let's do it with the last digit of order_id. \n",
    "\n",
    "**If order_id % 10 >= 7 and eval_set = 'train', then 'validation'**"
   ]
  },
  {
   "cell_type": "markdown",
   "metadata": {},
   "source": [
    "# Create dataframe with actual results\n",
    "\n",
    "Go to the answers and make a dataframe that matches the sample submission. From the Kaggle evaluation page: \n",
    "\n",
    "> For each order_id in the test set, you should predict a space-delimited list of product_ids for that order. If you wish to predict an empty order, you should submit an explicit 'None' value. You may combine 'None' with product_ids. The spelling of 'None' is case sensitive in the scoring metric. The file should have a header and look like the following:\n",
    "\n",
    ">```\n",
    "order_id,products  \n",
    "17,1 2  \n",
    "34,None  \n",
    "137,1 2 3  \n",
    "etc.\n",
    "```\n",
    "\n",
    "It is easier to compare if testing is a dict object, keys being the order id, value being the set of products"
   ]
  },
  {
   "cell_type": "code",
   "execution_count": 1,
   "metadata": {
    "collapsed": true
   },
   "outputs": [],
   "source": [
    "import sqlite3\n",
    "import pandas as pd\n",
    "\n",
    "conn = sqlite3.connect(\"instacart.db\")\n",
    "cur = conn.cursor()\n",
    "\n",
    "# Query sqlite3 for the validation orders and their products\n",
    "actual_results_raw = pd.read_sql_query(\"SELECT A.order_id as order_id, \"\n",
    "                                   \"  COALESCE(CAST(B.product_id as text), 'None') as product_id \"\n",
    "                                   \"FROM orders A LEFT JOIN ( \"\n",
    "                                   \"  SELECT order_id, product_id \"\n",
    "                                   \"  FROM products_train \"\n",
    "                                   \"  WHERE order_id % 10 >= 7 \"\n",
    "                                   \"    AND reordered = 1 ) B \"\n",
    "                                   \"  ON A.order_id = B.order_id \"\n",
    "                                   \"WHERE A.eval_set = 'train' \"\n",
    "                                   \"  AND A.order_id % 10 >= 7;\" , conn)\n",
    "\n",
    "conn.close()"
   ]
  },
  {
   "cell_type": "code",
   "execution_count": 2,
   "metadata": {
    "collapsed": true
   },
   "outputs": [],
   "source": [
    "actual_results = {}\n",
    "\n",
    "# Convert evaluation framework: results[order_id] = set([product1, product2, ...])\n",
    "for row in actual_results_raw.itertuples():\n",
    "    if row.order_id not in actual_results:\n",
    "        actual_results[row.order_id] = set()\n",
    "    actual_results[row.order_id].add(row.product_id)\n"
   ]
  },
  {
   "cell_type": "code",
   "execution_count": null,
   "metadata": {
    "collapsed": true
   },
   "outputs": [],
   "source": []
  }
 ],
 "metadata": {
  "kernelspec": {
   "display_name": "Python 3",
   "language": "python",
   "name": "python3"
  },
  "language_info": {
   "codemirror_mode": {
    "name": "ipython",
    "version": 3
   },
   "file_extension": ".py",
   "mimetype": "text/x-python",
   "name": "python",
   "nbconvert_exporter": "python",
   "pygments_lexer": "ipython3",
   "version": "3.6.0"
  },
  "toc": {
   "colors": {
    "hover_highlight": "#DAA520",
    "navigate_num": "#000000",
    "navigate_text": "#333333",
    "running_highlight": "#FF0000",
    "selected_highlight": "#FFD700",
    "sidebar_border": "#EEEEEE",
    "wrapper_background": "#FFFFFF"
   },
   "moveMenuLeft": true,
   "nav_menu": {
    "height": "48px",
    "width": "252px"
   },
   "navigate_menu": true,
   "number_sections": true,
   "sideBar": true,
   "threshold": 4,
   "toc_cell": false,
   "toc_section_display": "block",
   "toc_window_display": false,
   "widenNotebook": false
  }
 },
 "nbformat": 4,
 "nbformat_minor": 2
}
